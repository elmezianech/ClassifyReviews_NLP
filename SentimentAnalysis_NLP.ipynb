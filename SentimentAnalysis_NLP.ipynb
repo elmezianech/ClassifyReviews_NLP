{
 "cells": [
  {
   "cell_type": "code",
   "execution_count": 22,
   "id": "91f86f58-d803-44f5-a95c-9b7a1bdd1490",
   "metadata": {},
   "outputs": [],
   "source": [
    "#Importing Libraries and Loading Data\n",
    "import numpy as np\n",
    "import matplotlib.pyplot as plt\n",
    "import pandas as pd\n",
    "\n",
    "dataset = pd.read_csv('Restaurant_Reviews.tsv', delimiter='\\t', quoting=3)"
   ]
  },
  {
   "cell_type": "code",
   "execution_count": 23,
   "id": "a87c4aa6-3e54-48d6-a4a8-77bb7c108ced",
   "metadata": {},
   "outputs": [
    {
     "name": "stderr",
     "output_type": "stream",
     "text": [
      "[nltk_data] Downloading package stopwords to\n",
      "[nltk_data]     C:\\Users\\admin\\AppData\\Roaming\\nltk_data...\n",
      "[nltk_data]   Package stopwords is already up-to-date!\n"
     ]
    }
   ],
   "source": [
    "#Preprocessing the Reviews\n",
    "import re\n",
    "import nltk\n",
    "\n",
    "nltk.download('stopwords')\n",
    "\n",
    "from nltk.corpus import stopwords\n",
    "from nltk.stem.porter import PorterStemmer\n",
    "\n",
    "corpus = []\n",
    "\n",
    "for i in range(0, 1000) :\n",
    "    review = re.sub('[^a-zA-Z]', ' ', dataset['Review'][i]) #remove special characters, numbers and punctuation \n",
    "    review = review.lower() \n",
    "    review = review.split() #split into list of words\n",
    "\n",
    "    ps = PorterStemmer()\n",
    "    all_stopwords = stopwords.words('english') #initialize the variable all_stopwords with the English stopwords from NLTK\n",
    "    all_stopwords.remove('not')\n",
    "    all_stopwords.remove('no')\n",
    "    all_stopwords.remove('but')\n",
    "    all_stopwords.remove(\"won't\")\n",
    "\n",
    "    review = [ps.stem(word) for word in review if word not in set(all_stopwords)]\n",
    "    review = ' '.join(review)\n",
    "    corpus.append(review)"
   ]
  },
  {
   "cell_type": "code",
   "execution_count": 24,
   "id": "690f2316-9e46-4d77-bae6-1fe379da68b8",
   "metadata": {},
   "outputs": [],
   "source": [
    "X = dataset['Review']  # Feature matrix (input data)\n",
    "y = dataset['Liked'].astype(int)       # Target variable (labels)"
   ]
  },
  {
   "cell_type": "code",
   "execution_count": 25,
   "id": "42ae7129-4c91-4422-87c3-e73de640fca5",
   "metadata": {},
   "outputs": [],
   "source": [
    "#Vectorizing the Reviews\n",
    "from sklearn.feature_extraction.text import CountVectorizer\n",
    "\n",
    "cv = CountVectorizer(max_features=1500)\n",
    "\n",
    "X = cv.fit_transform(corpus).toarray()"
   ]
  },
  {
   "cell_type": "code",
   "execution_count": 26,
   "id": "4f417604-fc83-4c62-af48-4d93316f03dc",
   "metadata": {},
   "outputs": [
    {
     "name": "stdout",
     "output_type": "stream",
     "text": [
      "Liked\n",
      "1    500\n",
      "0    500\n",
      "Name: count, dtype: int64\n"
     ]
    }
   ],
   "source": [
    "print(dataset['Liked'].value_counts())"
   ]
  },
  {
   "cell_type": "code",
   "execution_count": 27,
   "id": "0a091e78-5554-4c7b-b3ed-99fcc5da29e8",
   "metadata": {},
   "outputs": [
    {
     "name": "stdout",
     "output_type": "stream",
     "text": [
      "Logistic Regression accuracy: 0.78\n",
      "Naive Bayes accuracy: 0.8\n",
      "Support Vector Machine accuracy: 0.775\n",
      "Random Forest accuracy: 0.78\n"
     ]
    }
   ],
   "source": [
    "#Splitting the Data and training the model\n",
    "from sklearn.model_selection import train_test_split\n",
    "from sklearn.model_selection import cross_val_score\n",
    "from sklearn.linear_model import LogisticRegression\n",
    "from sklearn.naive_bayes import MultinomialNB\n",
    "from sklearn.svm import SVC\n",
    "from sklearn.ensemble import RandomForestClassifier\n",
    "from sklearn.metrics import accuracy_score\n",
    "\n",
    "X_train, X_test, y_train, y_test = train_test_split(X, y, test_size=0.20, random_state=0)\n",
    "\n",
    "models = [\n",
    "    ('Logistic Regression', LogisticRegression(C=1.)),\n",
    "    ('Naive Bayes', MultinomialNB()),\n",
    "    ('Support Vector Machine', SVC(C=1., kernel='rbf')),\n",
    "    ('Random Forest', RandomForestClassifier())\n",
    "]\n",
    "\n",
    "for model_name, model in models:\n",
    "    model.fit(X_train, y_train)\n",
    "    y_pred = model.predict(X_test)\n",
    "    accuracy = accuracy_score(y_test, y_pred)\n",
    "    print(f'{model_name} accuracy: {accuracy}')"
   ]
  },
  {
   "cell_type": "code",
   "execution_count": 32,
   "id": "bd48de6f-cb1e-42b5-a22e-f79d64e29862",
   "metadata": {},
   "outputs": [
    {
     "name": "stdout",
     "output_type": "stream",
     "text": [
      "Best model: Logistic Regression\n",
      "Accuracy with k-fold cross-validation: 0.80375\n"
     ]
    }
   ],
   "source": [
    "#Cross-Validation and Choosing the Best Model\n",
    "best_model = models[0][0]\n",
    "best_accuracy = 0\n",
    "\n",
    "for model_name, model in models:\n",
    "    accuracy_scores = cross_val_score(model, X_train, y_train, cv=10)\n",
    "    mean_accuracy = np.mean(accuracy_scores)\n",
    "    if mean_accuracy > best_accuracy :\n",
    "        best_accuracy = mean_accuracy\n",
    "        best_model = model_name\n",
    "\n",
    "print(f'Best model: {best_model}')\n",
    "print(f'Accuracy with k-fold cross-validation: {best_accuracy}')"
   ]
  },
  {
   "cell_type": "code",
   "execution_count": 33,
   "id": "d4a9ce7d-9d92-4f85-9db0-4800ae7405f4",
   "metadata": {},
   "outputs": [
    {
     "data": {
      "text/html": [
       "<style>#sk-container-id-1 {color: black;background-color: white;}#sk-container-id-1 pre{padding: 0;}#sk-container-id-1 div.sk-toggleable {background-color: white;}#sk-container-id-1 label.sk-toggleable__label {cursor: pointer;display: block;width: 100%;margin-bottom: 0;padding: 0.3em;box-sizing: border-box;text-align: center;}#sk-container-id-1 label.sk-toggleable__label-arrow:before {content: \"▸\";float: left;margin-right: 0.25em;color: #696969;}#sk-container-id-1 label.sk-toggleable__label-arrow:hover:before {color: black;}#sk-container-id-1 div.sk-estimator:hover label.sk-toggleable__label-arrow:before {color: black;}#sk-container-id-1 div.sk-toggleable__content {max-height: 0;max-width: 0;overflow: hidden;text-align: left;background-color: #f0f8ff;}#sk-container-id-1 div.sk-toggleable__content pre {margin: 0.2em;color: black;border-radius: 0.25em;background-color: #f0f8ff;}#sk-container-id-1 input.sk-toggleable__control:checked~div.sk-toggleable__content {max-height: 200px;max-width: 100%;overflow: auto;}#sk-container-id-1 input.sk-toggleable__control:checked~label.sk-toggleable__label-arrow:before {content: \"▾\";}#sk-container-id-1 div.sk-estimator input.sk-toggleable__control:checked~label.sk-toggleable__label {background-color: #d4ebff;}#sk-container-id-1 div.sk-label input.sk-toggleable__control:checked~label.sk-toggleable__label {background-color: #d4ebff;}#sk-container-id-1 input.sk-hidden--visually {border: 0;clip: rect(1px 1px 1px 1px);clip: rect(1px, 1px, 1px, 1px);height: 1px;margin: -1px;overflow: hidden;padding: 0;position: absolute;width: 1px;}#sk-container-id-1 div.sk-estimator {font-family: monospace;background-color: #f0f8ff;border: 1px dotted black;border-radius: 0.25em;box-sizing: border-box;margin-bottom: 0.5em;}#sk-container-id-1 div.sk-estimator:hover {background-color: #d4ebff;}#sk-container-id-1 div.sk-parallel-item::after {content: \"\";width: 100%;border-bottom: 1px solid gray;flex-grow: 1;}#sk-container-id-1 div.sk-label:hover label.sk-toggleable__label {background-color: #d4ebff;}#sk-container-id-1 div.sk-serial::before {content: \"\";position: absolute;border-left: 1px solid gray;box-sizing: border-box;top: 0;bottom: 0;left: 50%;z-index: 0;}#sk-container-id-1 div.sk-serial {display: flex;flex-direction: column;align-items: center;background-color: white;padding-right: 0.2em;padding-left: 0.2em;position: relative;}#sk-container-id-1 div.sk-item {position: relative;z-index: 1;}#sk-container-id-1 div.sk-parallel {display: flex;align-items: stretch;justify-content: center;background-color: white;position: relative;}#sk-container-id-1 div.sk-item::before, #sk-container-id-1 div.sk-parallel-item::before {content: \"\";position: absolute;border-left: 1px solid gray;box-sizing: border-box;top: 0;bottom: 0;left: 50%;z-index: -1;}#sk-container-id-1 div.sk-parallel-item {display: flex;flex-direction: column;z-index: 1;position: relative;background-color: white;}#sk-container-id-1 div.sk-parallel-item:first-child::after {align-self: flex-end;width: 50%;}#sk-container-id-1 div.sk-parallel-item:last-child::after {align-self: flex-start;width: 50%;}#sk-container-id-1 div.sk-parallel-item:only-child::after {width: 0;}#sk-container-id-1 div.sk-dashed-wrapped {border: 1px dashed gray;margin: 0 0.4em 0.5em 0.4em;box-sizing: border-box;padding-bottom: 0.4em;background-color: white;}#sk-container-id-1 div.sk-label label {font-family: monospace;font-weight: bold;display: inline-block;line-height: 1.2em;}#sk-container-id-1 div.sk-label-container {text-align: center;}#sk-container-id-1 div.sk-container {/* jupyter's `normalize.less` sets `[hidden] { display: none; }` but bootstrap.min.css set `[hidden] { display: none !important; }` so we also need the `!important` here to be able to override the default hidden behavior on the sphinx rendered scikit-learn.org. See: https://github.com/scikit-learn/scikit-learn/issues/21755 */display: inline-block !important;position: relative;}#sk-container-id-1 div.sk-text-repr-fallback {display: none;}</style><div id=\"sk-container-id-1\" class=\"sk-top-container\"><div class=\"sk-text-repr-fallback\"><pre>LogisticRegression()</pre><b>In a Jupyter environment, please rerun this cell to show the HTML representation or trust the notebook. <br />On GitHub, the HTML representation is unable to render, please try loading this page with nbviewer.org.</b></div><div class=\"sk-container\" hidden><div class=\"sk-item\"><div class=\"sk-estimator sk-toggleable\"><input class=\"sk-toggleable__control sk-hidden--visually\" id=\"sk-estimator-id-1\" type=\"checkbox\" checked><label for=\"sk-estimator-id-1\" class=\"sk-toggleable__label sk-toggleable__label-arrow\">LogisticRegression</label><div class=\"sk-toggleable__content\"><pre>LogisticRegression()</pre></div></div></div></div></div>"
      ],
      "text/plain": [
       "LogisticRegression()"
      ]
     },
     "execution_count": 33,
     "metadata": {},
     "output_type": "execute_result"
    }
   ],
   "source": [
    "#choosing logistic regression as the best model\n",
    "classifier = LogisticRegression(C=1.0) #moderate regularization\n",
    "classifier.fit(X_train, y_train)"
   ]
  },
  {
   "cell_type": "code",
   "execution_count": 35,
   "id": "6c64a33c-80ba-415b-8082-2ea229593b2d",
   "metadata": {},
   "outputs": [],
   "source": [
    "#Saving and Loading the Trained Model\n",
    "import joblib\n",
    "\n",
    "# Save the trained model to a file\n",
    "joblib.dump(classifier, 'logistic_regression_NLPreviews.joblib')\n",
    "\n",
    "# Save the vectorizer\n",
    "joblib.dump(cv, 'vectorizer_reviews.joblib')\n",
    "\n",
    "# Load the saved model from a file\n",
    "loaded_model = joblib.load('logistic_regression_NLPreviews.joblib')\n",
    "loaded_vectorizer = joblib.load('vectorizer_reviews.joblib')"
   ]
  },
  {
   "cell_type": "code",
   "execution_count": 36,
   "id": "e33e1b3e-9be6-4380-b44b-09d0d9118c0a",
   "metadata": {},
   "outputs": [
    {
     "name": "stdout",
     "output_type": "stream",
     "text": [
      "negative sentiment\n"
     ]
    }
   ],
   "source": [
    "#Making Predictions on New Data\n",
    "new_review = loaded_vectorizer.transform(['The food could have been better.'])\n",
    "predictions = loaded_model.predict(new_review)\n",
    "\n",
    "if predictions == 0:\n",
    "    print('negative sentiment')\n",
    "else:\n",
    "    print('positive sentiment')"
   ]
  },
  {
   "cell_type": "code",
   "execution_count": 37,
   "id": "94685727-ca19-463d-a1a7-b79f8a4eed4e",
   "metadata": {},
   "outputs": [
    {
     "name": "stdout",
     "output_type": "stream",
     "text": [
      "negative sentiment\n"
     ]
    }
   ],
   "source": [
    "#Making Predictions on New Data\n",
    "new_review = loaded_vectorizer.transform(['I was disgusted because I was pretty sure that was human hair.'])\n",
    "predictions = loaded_model.predict(new_review)\n",
    "\n",
    "if predictions == 0:\n",
    "    print('negative sentiment')\n",
    "else:\n",
    "    print('positive sentiment')"
   ]
  },
  {
   "cell_type": "code",
   "execution_count": 38,
   "id": "2c9a644f-3e7c-4818-b18b-144b5004c8f8",
   "metadata": {},
   "outputs": [
    {
     "name": "stdout",
     "output_type": "stream",
     "text": [
      "positive sentiment\n"
     ]
    }
   ],
   "source": [
    "#Making Predictions on New Data\n",
    "new_review = loaded_vectorizer.transform(['I could care less... The interior is just beautiful.'])\n",
    "predictions = loaded_model.predict(new_review)\n",
    "\n",
    "if predictions == 0:\n",
    "    print('negative sentiment')\n",
    "else:\n",
    "    print('positive sentiment')"
   ]
  },
  {
   "cell_type": "code",
   "execution_count": null,
   "id": "e12d1af4-f921-47a3-a6cd-24d2688493f7",
   "metadata": {},
   "outputs": [],
   "source": []
  }
 ],
 "metadata": {
  "kernelspec": {
   "display_name": "Python 3 (ipykernel)",
   "language": "python",
   "name": "python3"
  },
  "language_info": {
   "codemirror_mode": {
    "name": "ipython",
    "version": 3
   },
   "file_extension": ".py",
   "mimetype": "text/x-python",
   "name": "python",
   "nbconvert_exporter": "python",
   "pygments_lexer": "ipython3",
   "version": "3.10.10"
  }
 },
 "nbformat": 4,
 "nbformat_minor": 5
}
